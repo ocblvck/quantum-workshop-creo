{
 "cells": [
  {
   "cell_type": "code",
   "execution_count": null,
   "id": "58ef6458",
   "metadata": {},
   "outputs": [],
   "source": [
    "%matplotlib inline"
   ]
  },
  {
   "cell_type": "markdown",
   "id": "40240677",
   "metadata": {},
   "source": [
    "# Quantum Gate Building Playground\n",
    "\n",
    "## What are Quantum Gates?\n",
    "\n",
    "**Quantum gates** are the building blocks of quantum circuits, just like logic gates (AND, OR, NOT) are the building blocks of classical circuits.\n",
    "\n",
    "### Key Differences:\n",
    "\n",
    "**Classical Gates:**\n",
    "- Manipulate bits (0 or 1)\n",
    "- Often irreversible (e.g., AND gate loses information)\n",
    "- Examples: AND, OR, NOT, XOR\n",
    "\n",
    "**Quantum Gates:**\n",
    "- Manipulate qubits (superposition and entanglement)\n",
    "- Always **reversible** (unitary transformations)\n",
    "- Can create and manipulate superposition\n",
    "- Can create entanglement between qubits\n",
    "\n",
    "## Common Quantum Gates\n",
    "\n",
    "Let's explore the most important quantum gates!"
   ]
  },
  {
   "cell_type": "code",
   "execution_count": null,
   "id": "68a78ba4",
   "metadata": {},
   "outputs": [],
   "source": [
    "# Import Qiskit\n",
    "from qiskit import QuantumCircuit"
   ]
  },
  {
   "cell_type": "markdown",
   "id": "a754445c",
   "metadata": {},
   "source": [
    "## Single-Qubit Gates\n",
    "\n",
    "These gates operate on individual qubits.\n",
    "\n",
    "### 1. Hadamard Gate (H)\n",
    "- **Purpose:** Creates equal superposition\n",
    "- **Action:** $H|0\\rangle = \\frac{1}{\\sqrt{2}}(|0\\rangle + |1\\rangle)$\n",
    "- **Use case:** Starting point for many quantum algorithms\n",
    "\n",
    "### 2. Pauli-X Gate (X)\n",
    "- **Purpose:** Quantum NOT gate (bit flip)\n",
    "- **Action:** $X|0\\rangle = |1\\rangle$ and $X|1\\rangle = |0\\rangle$\n",
    "- **Use case:** Flipping qubit states\n",
    "\n",
    "### 3. Pauli-Y Gate (Y)\n",
    "- **Purpose:** Rotation around Y-axis + bit flip\n",
    "- **Action:** $Y|0\\rangle = i|1\\rangle$ and $Y|1\\rangle = -i|0\\rangle$\n",
    "- **Use case:** Combined rotation and flip\n",
    "\n",
    "### 4. Pauli-Z Gate (Z)\n",
    "- **Purpose:** Phase flip (doesn't change |0⟩ or |1⟩ basis, but changes phase)\n",
    "- **Action:** $Z|0\\rangle = |0\\rangle$ and $Z|1\\rangle = -|1\\rangle$\n",
    "- **Use case:** Phase manipulation"
   ]
  },
  {
   "cell_type": "markdown",
   "id": "d6c6538c",
   "metadata": {},
   "source": [
    "## Two-Qubit Gates (Entangling Gates)\n",
    "\n",
    "These gates operate on pairs of qubits and can create **entanglement**!\n",
    "\n",
    "### 1. CNOT Gate (CX)\n",
    "- **Purpose:** Controlled-NOT, the most important 2-qubit gate\n",
    "- **Action:** Flips target qubit IF control qubit is |1⟩\n",
    "- **Notation:** `cx(control, target)`\n",
    "- **Use case:** Creating entanglement, quantum error correction\n",
    "\n",
    "**Truth Table:**\n",
    "| Control | Target | → | Control | Target |\n",
    "|---------|--------|---|---------|--------|\n",
    "| 0       | 0      | → | 0       | 0      |\n",
    "| 0       | 1      | → | 0       | 1      |\n",
    "| 1       | 0      | → | 1       | 1      | (flipped!)\n",
    "| 1       | 1      | → | 1       | 0      | (flipped!)\n",
    "\n",
    "### 2. Controlled-Z Gate (CZ)\n",
    "- **Purpose:** Applies Z gate to target IF control is |1⟩\n",
    "- **Action:** Adds phase flip when both qubits are |1⟩\n",
    "- **Notation:** `cz(control, target)`\n",
    "- **Use case:** Phase-based quantum algorithms\n",
    "\n",
    "Let's build a circuit using all these gates!"
   ]
  },
  {
   "cell_type": "code",
   "execution_count": null,
   "id": "2ddb7caf",
   "metadata": {},
   "outputs": [
    {
     "name": "stdout",
     "output_type": "stream",
     "text": [
      "        ┌───┐         ░ ┌─┐      \n",
      "   q_0: ┤ H ├──■──────░─┤M├──────\n",
      "        ├───┤┌─┴─┐    ░ └╥┘┌─┐   \n",
      "   q_1: ┤ X ├┤ X ├─■──░──╫─┤M├───\n",
      "        ├───┤└───┘ │  ░  ║ └╥┘┌─┐\n",
      "   q_2: ┤ Y ├──────■──░──╫──╫─┤M├\n",
      "        └───┘         ░  ║  ║ └╥┘\n",
      "   c: 3/═════════════════╬══╬══╬═\n",
      "                         ║  ║  ║ \n",
      "meas: 3/═════════════════╩══╩══╩═\n",
      "                         0  1  2 \n"
     ]
    }
   ],
   "source": [
    "# Create a quantum circuit with 3 qubits and 3 classical bits\n",
    "qc = QuantumCircuit(3, 3)\n",
    "\n",
    "# Apply single-qubit gates\n",
    "qc.h(0)      # Hadamard on qubit 0 → creates superposition\n",
    "qc.x(1)      # X gate on qubit 1 → flips |0⟩ to |1⟩\n",
    "qc.y(2)      # Y gate on qubit 2 → rotation + flip\n",
    "\n",
    "# Apply two-qubit gates (these create entanglement!)\n",
    "qc.cx(0, 1)  # CNOT: qubit 0 controls qubit 1\n",
    "qc.cz(1, 2)  # Controlled-Z: qubit 1 controls qubit 2\n",
    "\n",
    "# Measure all qubits\n",
    "qc.measure_all()\n",
    "\n",
    "# Display the circuit\n",
    "print(\"🎮 Quantum Gate Playground Circuit:\")\n",
    "print(\"=\"*60)\n",
    "print(qc.draw())\n",
    "print(\"=\"*60)"
   ]
  },
  {
   "cell_type": "markdown",
   "id": "f686d24f",
   "metadata": {},
   "source": [
    "## Understanding the Circuit\n",
    "\n",
    "Let's trace through what happens to each qubit:\n",
    "\n",
    "### Qubit 0 (q₀):\n",
    "1. **Start:** $|0\\rangle$\n",
    "2. **After H:** $\\frac{1}{\\sqrt{2}}(|0\\rangle + |1\\rangle)$ - in superposition!\n",
    "3. **After CNOT:** Acts as control for qubit 1 (creates entanglement)\n",
    "\n",
    "### Qubit 1 (q₁):\n",
    "1. **Start:** $|0\\rangle$\n",
    "2. **After X:** $|1\\rangle$ - flipped to 1\n",
    "3. **After CNOT:** Target of qubit 0's control (gets entangled with q₀)\n",
    "4. **After CZ:** Acts as control for qubit 2\n",
    "\n",
    "### Qubit 2 (q₂):\n",
    "1. **Start:** $|0\\rangle$\n",
    "2. **After Y:** $i|1\\rangle$ - rotated and flipped with phase\n",
    "3. **After CZ:** Target of qubit 1's control (phase relationship)\n",
    "\n",
    "### Circuit Flow:\n",
    "```\n",
    "q₀: |0⟩ ─H─●─────── (superposition, then controls q₁)\n",
    "           │\n",
    "q₁: |0⟩ ─X─X─●───── (flipped, entangled, then controls q₂)\n",
    "             │\n",
    "q₂: |0⟩ ─Y───Z───── (Y-rotated, phase-controlled)\n",
    "```\n",
    "\n",
    "The qubits are now in a complex entangled state! 🔗"
   ]
  },
  {
   "cell_type": "markdown",
   "id": "3468b115",
   "metadata": {},
   "source": [
    "## Let's Run It and See the Results!"
   ]
  },
  {
   "cell_type": "code",
   "execution_count": null,
   "id": "6ce7d1f3",
   "metadata": {},
   "outputs": [],
   "source": [
    "from qiskit_aer import AerSimulator\n",
    "from qiskit.visualization import plot_histogram\n",
    "\n",
    "# Run the circuit\n",
    "simulator = AerSimulator()\n",
    "job = simulator.run(qc, shots=1000)\n",
    "result = job.result()\n",
    "counts = result.get_counts()\n",
    "\n",
    "# Display results\n",
    "print(\"📊 Measurement Results (1000 shots):\")\n",
    "print(\"=\"*60)\n",
    "for state, count in sorted(counts.items(), key=lambda x: x[1], reverse=True):\n",
    "    percentage = (count / 1000) * 100\n",
    "    print(f\"   |{state}⟩: {count:4d} times ({percentage:5.1f}%)\")\n",
    "print(\"=\"*60)\n",
    "print(\"\\nNotice the distribution of different states!\")\n",
    "print(\"This shows the complex quantum state created by the gates.\")"
   ]
  },
  {
   "cell_type": "code",
   "execution_count": null,
   "id": "85f9f65b",
   "metadata": {},
   "outputs": [],
   "source": [
    "# Visualize the results\n",
    "plot_histogram(counts, title='Multi-Gate Quantum Circuit Results')"
   ]
  },
  {
   "cell_type": "markdown",
   "id": "9fd068b2",
   "metadata": {},
   "source": [
    "## 🎯 Gate Summary Reference\n",
    "\n",
    "### Single-Qubit Gates\n",
    "\n",
    "| Gate | Symbol | Effect | Use Case |\n",
    "|------|--------|--------|----------|\n",
    "| **H** (Hadamard) | H | Creates superposition | Algorithm initialization |\n",
    "| **X** (Pauli-X) | X | Bit flip (NOT) | State preparation |\n",
    "| **Y** (Pauli-Y) | Y | Bit flip + phase | Combined operations |\n",
    "| **Z** (Pauli-Z) | Z | Phase flip | Phase manipulation |\n",
    "| **S** | S | √Z gate | Precision phase control |\n",
    "| **T** | T | ∜Z gate | Fault-tolerant computing |\n",
    "\n",
    "### Two-Qubit Gates\n",
    "\n",
    "| Gate | Symbol | Effect | Use Case |\n",
    "|------|--------|--------|----------|\n",
    "| **CNOT** (CX) | ●─X | Controlled bit flip | Entanglement, error correction |\n",
    "| **CZ** | ●─Z | Controlled phase flip | Phase-based algorithms |\n",
    "| **SWAP** | ×─× | Exchange qubit states | Qubit routing |\n",
    "\n",
    "### Gate Properties\n",
    "\n",
    "✅ **All quantum gates are reversible** (unitary)  \n",
    "✅ **Gates preserve quantum information**  \n",
    "✅ **Multiple gates can be composed**  \n",
    "✅ **Order matters!** (gates don't always commute)\n",
    "\n",
    "---\n",
    "\n",
    "## 🚀 Experiment Ideas\n",
    "\n",
    "Now that you understand the basics, try these experiments:\n",
    "\n",
    "1. **Remove the CNOT gate** - How does this affect the results?\n",
    "2. **Add another Hadamard on qubit 1** after the X gate - What happens?\n",
    "3. **Swap the order of gates** - Does it change the outcome?\n",
    "4. **Create a Bell state** - Use H on q₀, then CNOT(0,1) - What states do you get?\n",
    "\n",
    "Remember: Quantum circuits are all about **experimenting** and **building intuition**! 🎮"
   ]
  }
 ],
 "metadata": {
  "kernelspec": {
   "display_name": "qiskit",
   "language": "python",
   "name": "python3"
  },
  "language_info": {
   "codemirror_mode": {
    "name": "ipython",
    "version": 3
   },
   "file_extension": ".py",
   "mimetype": "text/x-python",
   "name": "python",
   "nbconvert_exporter": "python",
   "pygments_lexer": "ipython3",
   "version": "3.13.3"
  }
 },
 "nbformat": 4,
 "nbformat_minor": 5
}
