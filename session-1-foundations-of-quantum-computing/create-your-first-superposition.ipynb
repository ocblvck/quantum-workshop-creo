{
 "cells": [
  {
   "cell_type": "markdown",
   "id": "b6526db7",
   "metadata": {},
   "source": [
    "# Create Your First Superposition\n",
    "\n",
    "## What is Superposition?\n",
    "\n",
    "**Superposition** is one of the most fundamental and mind-bending concepts in quantum mechanics. It's what makes quantum computers fundamentally different from classical computers.\n",
    "\n",
    "### Classical vs Quantum States\n",
    "\n",
    "**Classical bit:**\n",
    "- Can be **0** or **1**\n",
    "- Always in one definite state\n",
    "- Like a light switch: ON or OFF\n",
    "\n",
    "**Quantum bit (qubit):**\n",
    "- Can be **0**, **1**, or **both at the same time** (superposition!)\n",
    "- Exists in multiple states simultaneously\n",
    "- Like Schrödinger's cat: alive AND dead until observed\n",
    "\n",
    "### The Mathematical Form\n",
    "\n",
    "A qubit in superposition is written as:\n",
    "\n",
    "$$|\\psi\\rangle = \\alpha|0\\rangle + \\beta|1\\rangle$$\n",
    "\n",
    "Where:\n",
    "- $\\alpha$ and $\\beta$ are complex numbers (probability amplitudes)\n",
    "- $|\\alpha|^2$ = probability of measuring 0\n",
    "- $|\\beta|^2$ = probability of measuring 1\n",
    "- $|\\alpha|^2 + |\\beta|^2 = 1$ (probabilities must sum to 100%)\n",
    "\n",
    "Let's create our first superposition! 🌟"
   ]
  },
  {
   "cell_type": "markdown",
   "id": "bfcf058c",
   "metadata": {},
   "source": [
    "## The Hadamard Gate: Your Superposition Tool\n",
    "\n",
    "The **Hadamard gate (H)** is the most important gate for creating superposition. It's the quantum equivalent of flipping a coin!\n",
    "\n",
    "### What the Hadamard Gate Does\n",
    "\n",
    "When applied to a qubit in state $|0\\rangle$:\n",
    "\n",
    "$$H|0\\rangle = \\frac{1}{\\sqrt{2}}(|0\\rangle + |1\\rangle)$$\n",
    "\n",
    "This creates an **equal superposition**:\n",
    "- 50% probability of measuring 0\n",
    "- 50% probability of measuring 1\n",
    "- But before measurement, the qubit is **genuinely in both states**!\n",
    "\n",
    "### Circuit Notation\n",
    "\n",
    "```\n",
    "|0⟩ ──H── (superposition state)\n",
    "```\n",
    "\n",
    "The qubit starts at $|0\\rangle$ and the Hadamard gate puts it into superposition!\n",
    "\n",
    "Let's build it step by step:"
   ]
  },
  {
   "cell_type": "code",
   "execution_count": null,
   "id": "fc8c17b5",
   "metadata": {},
   "outputs": [
    {
     "name": "stdout",
     "output_type": "stream",
     "text": [
      "Circuit diagram:\n",
      "     ┌───┐┌─┐\n",
      "  q: ┤ H ├┤M├\n",
      "     └───┘└╥┘\n",
      "c: 1/══════╩═\n",
      "           0 \n",
      "\n",
      "Results: {'1': 499, '0': 501}\n",
      "\n",
      "Creating histogram...\n"
     ]
    },
    {
     "data": {
      "image/png": "[encoded data removed]",
      "text/plain": [
       "<Figure size 640x480 with 1 Axes>"
      ]
     },
     "metadata": {},
     "output_type": "display_data"
    }
   ],
   "source": [
    "# Import necessary libraries\n",
    "from qiskit import QuantumCircuit\n",
    "from qiskit_aer import AerSimulator\n",
    "from qiskit.visualization import plot_histogram\n",
    "import matplotlib.pyplot as plt\n",
    "\n",
    "# Configure matplotlib for inline plotting\n",
    "%matplotlib inline\n",
    "\n",
    "# Step 1: Create a quantum circuit with 1 qubit and 1 classical bit\n",
    "qc = QuantumCircuit(1, 1)  \n",
    "\n",
    "# Step 2: Apply Hadamard gate to create superposition\n",
    "qc.h(0)  # Transforms |0⟩ → (|0⟩ + |1⟩)/√2\n",
    "\n",
    "# Step 3: Measure the qubit (this collapses the superposition)\n",
    "qc.measure(0, 0)\n",
    "\n",
    "# Display the circuit\n",
    "print(\"✨ Superposition Circuit:\")\n",
    "print(qc.draw())\n",
    "print(\"\\nThe qubit is now in superposition!\")"
   ]
  },
  {
   "cell_type": "markdown",
   "id": "b91cfa3f",
   "metadata": {},
   "source": [
    "## Understanding the Circuit\n",
    "\n",
    "Let's break down what we just created:\n",
    "\n",
    "### Circuit Breakdown:\n",
    "\n",
    "1. **Initial State:** The qubit starts in state $|0\\rangle$ (ground state)\n",
    "\n",
    "2. **Hadamard Gate (H):** \n",
    "   - Transforms: $|0\\rangle \\rightarrow \\frac{1}{\\sqrt{2}}(|0\\rangle + |1\\rangle)$\n",
    "   - The qubit is now in **superposition** - it's 0 AND 1 simultaneously!\n",
    "   \n",
    "3. **Measurement:**\n",
    "   - Collapses the superposition to either $|0\\rangle$ or $|1\\rangle$\n",
    "   - Each outcome has 50% probability\n",
    "   - After measurement, superposition is destroyed\n",
    "\n",
    "### What Makes This Special?\n",
    "\n",
    "Before measurement, the qubit isn't \"randomly 0 or 1\" - it's **genuinely both at the same time**. This is the quantum weirdness that Einstein struggled with!\n",
    "\n",
    "Now let's run this circuit and see the results:"
   ]
  },
  {
   "cell_type": "code",
   "execution_count": null,
   "id": "ec2639e8",
   "metadata": {},
   "outputs": [],
   "source": [
    "# Run the circuit on a quantum simulator\n",
    "simulator = AerSimulator()\n",
    "job = simulator.run(qc, shots=1000)  # Run 1000 times to see the probability distribution\n",
    "result = job.result()\n",
    "counts = result.get_counts()\n",
    "\n",
    "# Display results\n",
    "print(\"=\"*60)\n",
    "print(\"📊 Measurement Results (1000 shots):\")\n",
    "print(\"=\"*60)\n",
    "for state, count in sorted(counts.items()):\n",
    "    percentage = (count / 1000) * 100\n",
    "    print(f\"   State |{state}⟩: {count} times ({percentage:.1f}%)\")\n",
    "print(\"=\"*60)\n",
    "print(\"\\n✓ Notice the ~50/50 distribution!\")\n",
    "print(\"  This confirms the qubit was in equal superposition\")"
   ]
  },
  {
   "cell_type": "markdown",
   "id": "4fd4ed90",
   "metadata": {},
   "source": [
    "## Visualizing the Superposition\n",
    "\n",
    "Let's create a histogram to visualize the probability distribution:"
   ]
  },
  {
   "cell_type": "code",
   "execution_count": null,
   "id": "54f93811",
   "metadata": {},
   "outputs": [],
   "source": [
    "# Create histogram visualization\n",
    "plot_histogram(counts, title='Equal Superposition: H|0⟩ = (|0⟩ + |1⟩)/√2')"
   ]
  },
  {
   "cell_type": "markdown",
   "id": "09297137",
   "metadata": {},
   "source": [
    "## 🎯 Key Takeaways\n",
    "\n",
    "### What We Just Did:\n",
    "\n",
    "1. ✅ **Created a superposition state** using the Hadamard gate\n",
    "2. ✅ **Measured the qubit** 1000 times to see the probability distribution\n",
    "3. ✅ **Confirmed equal superposition** with ~50% for each outcome\n",
    "\n",
    "### Understanding the Results:\n",
    "\n",
    "The histogram shows approximately **equal bars** for states 0 and 1. This proves:\n",
    "\n",
    "- The qubit was in superposition: $\\frac{1}{\\sqrt{2}}(|0\\rangle + |1\\rangle)$\n",
    "- Each measurement had 50% chance of collapsing to |0⟩ or |1⟩\n",
    "- The slight variation (not exactly 500/500) is due to **quantum randomness**\n",
    "\n",
    "### Why This Matters:\n",
    "\n",
    "**Classical computers:**\n",
    "- Process one state at a time\n",
    "- To test 2 possibilities, need 2 runs\n",
    "\n",
    "**Quantum computers:**\n",
    "- Process multiple states simultaneously (superposition)\n",
    "- 1 qubit in superposition represents 2 states at once\n",
    "- n qubits in superposition can represent 2ⁿ states simultaneously!\n",
    "\n",
    "This is the foundation of **quantum parallelism** - the source of quantum computational power! 💪\n",
    "\n",
    "---\n",
    "\n",
    "**Experiment:** Try applying two Hadamard gates in a row (H-H). What happens? Hint: H is its own inverse! 🤔"
   ]
  }
 ],
 "metadata": {
  "kernelspec": {
   "display_name": "qiskit",
   "language": "python",
   "name": "python3"
  },
  "language_info": {
   "codemirror_mode": {
    "name": "ipython",
    "version": 3
   },
   "file_extension": ".py",
   "mimetype": "text/x-python",
   "name": "python",
   "nbconvert_exporter": "python",
   "pygments_lexer": "ipython3",
   "version": "3.13.3"
  }
 },
 "nbformat": 4,
 "nbformat_minor": 5
}
