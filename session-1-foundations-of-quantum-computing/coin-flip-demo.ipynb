{
 "cells": [
  {
   "cell_type": "markdown",
   "id": "be7e749d",
   "metadata": {},
   "source": [
    "# Classical vs Quantum Coin Flip\n",
    "\n",
    "## Understanding Bits vs Qubits\n",
    "\n",
    "This notebook demonstrates the fundamental difference between **classical bits** and **quantum bits (qubits)** using the simple example of a coin flip.\n",
    "\n",
    "**Classical bit:** Can be either 0 **OR** 1 (one value at a time)  \n",
    "**Quantum bit (qubit):** Can be 0 **AND** 1 simultaneously (superposition)\n",
    "\n",
    "Let's explore this difference!"
   ]
  },
  {
   "cell_type": "code",
   "execution_count": 30,
   "id": "1a115798",
   "metadata": {},
   "outputs": [],
   "source": [
    "%matplotlib inline"
   ]
  },
  {
   "cell_type": "markdown",
   "id": "727048c6",
   "metadata": {},
   "source": [
    "## Classical Coin Flip\n",
    "\n",
    "In classical computing, a bit is always in a **definite state**: either 0 or 1.\n",
    "\n",
    "When we flip a classical coin, it will land on either heads (0) or tails (1). Before we look at it, we just don't know which one, but the coin itself is already in one state or the other."
   ]
  },
  {
   "cell_type": "code",
   "execution_count": 1,
   "id": "d64b78c3",
   "metadata": {},
   "outputs": [
    {
     "name": "stdout",
     "output_type": "stream",
     "text": [
      "Classical bit (coin flip): 1\n"
     ]
    }
   ],
   "source": [
    "import random\n",
    "\n",
    "# Classical bit: 0 OR 1\n",
    "coin = random.choice([0, 1])\n",
    "print(f\"Classical bit (coin flip): {coin}\")"
   ]
  },
  {
   "cell_type": "markdown",
   "id": "96cd0c24",
   "metadata": {},
   "source": [
    "### Key Point: Classical Bit\n",
    "\n",
    "- Always exactly **0 OR 1** (never both)\n",
    "- **1 bit = 1 definite value** at any given time\n",
    "- Even if we don't know the value, it's still definitely one or the other"
   ]
  },
  {
   "cell_type": "markdown",
   "id": "912bea68",
   "metadata": {},
   "source": [
    "## Quantum Coin Flip (Superposition!)\n",
    "\n",
    "In quantum computing, a qubit can exist in **superposition** - a state where it is **both 0 AND 1 at the same time**!\n",
    "\n",
    "This is fundamentally different from classical uncertainty. The qubit isn't \"secretly\" one value or the other - it genuinely exists in both states simultaneously until we measure it.\n",
    "\n",
    "### The Hadamard Gate (H)\n",
    "\n",
    "The **Hadamard gate** is the key to creating superposition:\n",
    "- Takes a qubit in state |0⟩\n",
    "- Transforms it to: $\\frac{1}{\\sqrt{2}}(|0\\rangle + |1\\rangle)$\n",
    "- This means: 50% probability of |0⟩ AND 50% probability of |1⟩\n",
    "\n",
    "Let's see it in action!"
   ]
  },
  {
   "cell_type": "code",
   "execution_count": 7,
   "id": "aa184bfc",
   "metadata": {},
   "outputs": [
    {
     "name": "stdout",
     "output_type": "stream",
     "text": [
      "Circuit in SUPERPOSITION (before measurement):\n",
      "     ┌───┐\n",
      "  q: ┤ H ├\n",
      "     └───┘\n",
      "c: 1/═════\n",
      "          \n",
      "\n",
      " This qubit is in superposition: |0⟩ AND |1⟩ at the same time!\n",
      "   It's not 'unknown' - it's genuinely BOTH states simultaneously!\n"
     ]
    }
   ],
   "source": [
    "from qiskit import QuantumCircuit\n",
    "from qiskit_aer import Aer\n",
    "from qiskit.visualization import plot_histogram\n",
    "\n",
    "# Step 1: Create circuit with superposition (NO measurement yet)\n",
    "qc_superposition = QuantumCircuit(1, 1)\n",
    "qc_superposition.h(0)  # Apply Hadamard gate to create superposition\n",
    "\n",
    "print(\"Circuit in SUPERPOSITION (before measurement):\")\n",
    "print(qc_superposition)\n",
    "print(\"\\n This qubit is in superposition: |0⟩ AND |1⟩ at the same time!\")\n",
    "print(\"   It's not 'unknown' - it's genuinely BOTH states simultaneously!\")"
   ]
  },
  {
   "cell_type": "markdown",
   "id": "6959283d",
   "metadata": {},
   "source": [
    "### What Happens When We Measure?\n",
    "\n",
    "When we **measure** a qubit in superposition, something magical (and strange) happens:\n",
    "\n",
    "1. **Quantum Collapse**: The superposition collapses to a single definite state\n",
    "2. **Random Outcome**: We get either 0 or 1 (50% chance each)\n",
    "3. **Information Lost**: After measurement, the qubit is no longer in superposition\n",
    "\n",
    "This is called **wavefunction collapse** and it's one of the most mysterious aspects of quantum mechanics!\n",
    "\n",
    "Let's add measurement and see what happens:"
   ]
  },
  {
   "cell_type": "code",
   "execution_count": 6,
   "id": "28ea3418",
   "metadata": {},
   "outputs": [
    {
     "name": "stdout",
     "output_type": "stream",
     "text": [
      "============================================================\n",
      "\n",
      "Circuit WITH MEASUREMENT (collapses to 0 or 1):\n",
      "     ┌───┐┌─┐\n",
      "  q: ┤ H ├┤M├\n",
      "     └───┘└╥┘\n",
      "c: 1/══════╩═\n",
      "           0 \n",
      "\n",
      " When we measure, the superposition collapses!\n",
      "   The qubit becomes either |0⟩ or |1⟩ (50% chance each)\n"
     ]
    }
   ],
   "source": [
    "# Step 2: Create circuit with measurement\n",
    "qc_measured = QuantumCircuit(1, 1)\n",
    "qc_measured.h(0)  # Apply Hadamard gate to create superposition\n",
    "qc_measured.measure(0, 0)  # Add measurement - this collapses the superposition!\n",
    "\n",
    "print(\"=\"*60)\n",
    "print(\"\\nCircuit WITH MEASUREMENT (collapses to 0 or 1):\")\n",
    "print(qc_measured)\n",
    "print(\"\\n When we measure, the superposition collapses!\")\n",
    "print(\"   The qubit becomes either |0⟩ or |1⟩ (50% chance each)\")"
   ]
  },
  {
   "cell_type": "markdown",
   "id": "98bb1081",
   "metadata": {},
   "source": [
    "### Running the Quantum Coin Flip\n",
    "\n",
    "Let's run the quantum coin flip 1000 times and see the probability distribution:"
   ]
  },
  {
   "cell_type": "code",
   "execution_count": 9,
   "id": "03fa3b4d",
   "metadata": {},
   "outputs": [
    {
     "name": "stdout",
     "output_type": "stream",
     "text": [
      "============================================================\n",
      "\n",
      " Results from 1000 measurements:\n",
      "   Got 0: 536 times (~53.6%)\n",
      "   Got 1: 464 times (~46.4%)\n",
      "\n",
      "✓ Perfect 50/50 distribution (with small random variations)\n",
      "============================================================\n"
     ]
    }
   ],
   "source": [
    "# Step 3: Run simulation to show the 50/50 probability\n",
    "simulator = Aer.get_backend('qasm_simulator')\n",
    "result = simulator.run(qc_measured, shots=1000).result()\n",
    "counts = result.get_counts()\n",
    "\n",
    "print(\"=\"*60)\n",
    "print(\"\\n Results from 1000 measurements:\")\n",
    "print(f\"   Got 0: {counts.get('0', 0)} times (~{counts.get('0', 0)/10:.1f}%)\")\n",
    "print(f\"   Got 1: {counts.get('1', 0)} times (~{counts.get('1', 0)/10:.1f}%)\")\n",
    "print(\"\\n✓ Perfect 50/50 distribution (with small random variations)\")\n",
    "print(\"=\"*60)"
   ]
  },
  {
   "cell_type": "code",
   "execution_count": 5,
   "id": "0ea82db6",
   "metadata": {},
   "outputs": [
    {
     "data": {
      "image/png": "[encoded data removed]",
      "text/plain": [
       "<Figure size 640x480 with 1 Axes>"
      ]
     },
     "execution_count": 5,
     "metadata": {},
     "output_type": "execute_result"
    }
   ],
   "source": [
    "# Visualize the probability distribution\n",
    "plot_histogram(counts, title='Quantum Coin Flip: 50/50 Superposition Results')"
   ]
  },
  {
   "cell_type": "markdown",
   "id": "40ca7b4f",
   "metadata": {},
   "source": [
    "##  Key Differences: Classical vs Quantum\n",
    "\n",
    "| Aspect | Classical Bit | Quantum Bit (Qubit) |\n",
    "|--------|--------------|---------------------|\n",
    "| **States** | 0 OR 1 | 0 AND 1 (superposition) |\n",
    "| **Information** | 1 bit = 1 value | 1 qubit = both values simultaneously |\n",
    "| **Measurement** | Just reveals existing state | Collapses superposition to single state |\n",
    "| **Uncertainty** | We don't know which | It IS both until measured |\n",
    "\n",
    "### Why This Matters\n",
    "\n",
    "**Classical computing:** \n",
    "- 1 bit stores 1 value\n",
    "- n bits store n values\n",
    "\n",
    "**Quantum computing:**\n",
    "- 1 qubit exists in 2 states simultaneously\n",
    "- 2 qubits can represent 4 states at once\n",
    "- n qubits can represent 2ⁿ states simultaneously!\n",
    "\n",
    "This **exponential scaling** is what gives quantum computers their power! \n",
    "\n",
    "---"
   ]
  }
 ],
 "metadata": {
  "kernelspec": {
   "display_name": "qiskit",
   "language": "python",
   "name": "python3"
  },
  "language_info": {
   "codemirror_mode": {
    "name": "ipython",
    "version": 3
   },
   "file_extension": ".py",
   "mimetype": "text/x-python",
   "name": "python",
   "nbconvert_exporter": "python",
   "pygments_lexer": "ipython3",
   "version": "3.13.3"
  }
 },
 "nbformat": 4,
 "nbformat_minor": 5
}
