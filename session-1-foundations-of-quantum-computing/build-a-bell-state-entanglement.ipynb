{
 "cells": [
  {
   "cell_type": "code",
   "execution_count": 1,
   "id": "172b978a",
   "metadata": {},
   "outputs": [],
   "source": [
    "%matplotlib inline"
   ]
  },
  {
   "cell_type": "markdown",
   "id": "c294a02b",
   "metadata": {},
   "source": [
    "# Build a Bell State (Quantum Entanglement)\n",
    "\n",
    "## What is Entanglement?\n",
    "\n",
    "**Entanglement** is one of the most mysterious and powerful features of quantum mechanics. When two qubits are entangled:\n",
    "\n",
    "- They become **correlated** in a way that has no classical equivalent\n",
    "- Measuring one qubit **instantly** affects the other, no matter how far apart they are\n",
    "- Einstein called this \"spooky action at a distance\" \n",
    "\n",
    "## The Bell State\n",
    "\n",
    "The **Bell state** is the simplest example of quantum entanglement. It creates a pair of qubits in the state:\n",
    "\n",
    "$$|\\Phi^+\\rangle = \\frac{1}{\\sqrt{2}}(|00\\rangle + |11\\rangle)$$\n",
    "\n",
    "This means:\n",
    "- 50% chance of measuring both qubits as **|0⟩**\n",
    "- 50% chance of measuring both qubits as **|1⟩**  \n",
    "- **0% chance** of measuring **|01⟩** or **|10⟩**\n",
    "\n",
    "The qubits are perfectly correlated!"
   ]
  },
  {
   "cell_type": "markdown",
   "id": "5d04c070",
   "metadata": {},
   "source": [
    "## How to Create a Bell State\n",
    "\n",
    "Creating a Bell state requires just **2 quantum gates**:\n",
    "\n",
    "1. **Hadamard Gate (H)** on qubit 0\n",
    "   - Creates superposition: $|0\\rangle \\rightarrow \\frac{1}{\\sqrt{2}}(|0\\rangle + |1\\rangle)$\n",
    "   \n",
    "2. **CNOT Gate (CX)** between qubits 0 and 1\n",
    "   - Control: qubit 0\n",
    "   - Target: qubit 1\n",
    "   - Entangles the qubits!\n",
    "\n",
    "**Circuit:**\n",
    "```\n",
    "q0: ─H─●─  (Control)\n",
    "       │\n",
    "q1: ───X─  (Target)\n",
    "```\n",
    "\n",
    "Let's build it! "
   ]
  },
  {
   "cell_type": "code",
   "execution_count": 1,
   "id": "aa9ecc45",
   "metadata": {},
   "outputs": [
    {
     "name": "stdout",
     "output_type": "stream",
     "text": [
      "🔗 Bell State Circuit (Entangled Qubits):\n",
      "     ┌───┐     ┌─┐   \n",
      "q_0: ┤ H ├──■──┤M├───\n",
      "     └───┘┌─┴─┐└╥┘┌─┐\n",
      "q_1: ─────┤ X ├─╫─┤M├\n",
      "          └───┘ ║ └╥┘\n",
      "c: 2/═══════════╩══╩═\n",
      "                0  1 \n"
     ]
    }
   ],
   "source": [
    "# Import required libraries\n",
    "from qiskit import QuantumCircuit\n",
    "from qiskit_aer import AerSimulator\n",
    "from qiskit.visualization import plot_histogram\n",
    "import matplotlib.pyplot as plt\n",
    "\n",
    "# Step 1: Create a quantum circuit with 2 qubits and 2 classical bits\n",
    "qc = QuantumCircuit(2, 2)\n",
    "\n",
    "# Step 2: Apply Hadamard gate to qubit 0 (creates superposition)\n",
    "qc.h(0)\n",
    "\n",
    "# Step 3: Apply CNOT gate with qubit 0 as control and qubit 1 as target\n",
    "qc.cx(0, 1)  # This creates entanglement!\n",
    "\n",
    "# Step 4: Measure both qubits\n",
    "qc.measure([0, 1], [0, 1])\n",
    "\n",
    "# Display the circuit\n",
    "print(\"🔗 Bell State Circuit (Entangled Qubits):\")\n",
    "print(qc.draw())"
   ]
  },
  {
   "cell_type": "markdown",
   "id": "c089a42e",
   "metadata": {},
   "source": [
    "## Understanding the Circuit\n",
    "\n",
    "Let's break down what each step does:\n",
    "\n",
    "1. **`qc.h(0)`** - Hadamard on qubit 0\n",
    "   - Before: $|0\\rangle$\n",
    "   - After: $\\frac{1}{\\sqrt{2}}(|0\\rangle + |1\\rangle)$ (superposition)\n",
    "\n",
    "2. **`qc.cx(0, 1)`** - CNOT with qubit 0 controlling qubit 1\n",
    "   - If qubit 0 is in state $|0\\rangle$, qubit 1 stays as $|0\\rangle$\n",
    "   - If qubit 0 is in state $|1\\rangle$, qubit 1 flips to $|1\\rangle$\n",
    "   - Since qubit 0 is in superposition, both happen at once!\n",
    "\n",
    "3. **Result:** $\\frac{1}{\\sqrt{2}}(|00\\rangle + |11\\rangle)$ - The Bell State! \n",
    "\n",
    "Now let's run the circuit and see the entanglement in action!"
   ]
  },
  {
   "cell_type": "code",
   "execution_count": 4,
   "id": "0813df41",
   "metadata": {},
   "outputs": [
    {
     "name": "stdout",
     "output_type": "stream",
     "text": [
      " Bell State Results (1000 measurements):\n",
      "==================================================\n",
      "  |00⟩: 521 times (52.1%)\n",
      "  |11⟩: 479 times (47.9%)\n",
      "==================================================\n"
     ]
    }
   ],
   "source": [
    "# Run the circuit on a quantum simulator\n",
    "simulator = AerSimulator()\n",
    "job = simulator.run(qc, shots=1000)\n",
    "result = job.result()\n",
    "counts = result.get_counts()\n",
    "\n",
    "# Display the results\n",
    "print(\" Bell State Results (1000 measurements):\")\n",
    "print(\"=\"*50)\n",
    "for outcome, count in sorted(counts.items()):\n",
    "    percentage = (count/1000) * 100\n",
    "    print(f\"  |{outcome}⟩: {count} times ({percentage:.1f}%)\")\n",
    "print(\"=\"*50)"
   ]
  },
  {
   "cell_type": "markdown",
   "id": "4dbba41e",
   "metadata": {},
   "source": [
    "##  What Makes This Special?\n",
    "\n",
    "Look at the results above! Notice something amazing:\n",
    "\n",
    " **You ONLY get |00⟩ and |11⟩**\n",
    "- About 50% of the time: both qubits measure as 0\n",
    "- About 50% of the time: both qubits measure as 1\n",
    "\n",
    "❌ **You NEVER get |01⟩ or |10⟩**\n",
    "- The qubits are perfectly correlated\n",
    "- If one is 0, the other is ALWAYS 0\n",
    "- If one is 1, the other is ALWAYS 1\n",
    "\n",
    "This is **quantum entanglement** in action! The qubits are linked in a way that's impossible with classical bits. Even if you separate them by light-years, measuring one instantly determines the state of the other! "
   ]
  },
  {
   "cell_type": "code",
   "execution_count": 3,
   "id": "31c19042",
   "metadata": {},
   "outputs": [
    {
     "data": {
      "image/png": "[encoded data removed]",
      "text/plain": [
       "<Figure size 640x480 with 1 Axes>"
      ]
     },
     "execution_count": 3,
     "metadata": {},
     "output_type": "execute_result"
    }
   ],
   "source": [
    "# Visualize the results with a histogram\n",
    "plot_histogram(counts, title='Bell State: Perfectly Correlated Qubits')"
   ]
  },
  {
   "cell_type": "markdown",
   "id": "774e05a1",
   "metadata": {},
   "source": [
    "## Why Entanglement Matters\n",
    "\n",
    "Quantum entanglement is the foundation for many quantum technologies:\n",
    "\n",
    "🔐 **Quantum Cryptography**\n",
    "- Enables perfectly secure communication\n",
    "- Any eavesdropping can be detected instantly\n",
    "\n",
    "⚡ **Quantum Teleportation**\n",
    "- Transfer quantum states between distant locations\n",
    "- Essential for quantum networks\n",
    "\n",
    "💻 **Quantum Computing**\n",
    "- Entanglement provides computational power\n",
    "- Many quantum algorithms rely on entangled states"
   ]
  }
 ],
 "metadata": {
  "kernelspec": {
   "display_name": "qiskit",
   "language": "python",
   "name": "python3"
  },
  "language_info": {
   "codemirror_mode": {
    "name": "ipython",
    "version": 3
   },
   "file_extension": ".py",
   "mimetype": "text/x-python",
   "name": "python",
   "nbconvert_exporter": "python",
   "pygments_lexer": "ipython3",
   "version": "3.13.3"
  }
 },
 "nbformat": 4,
 "nbformat_minor": 5
}
