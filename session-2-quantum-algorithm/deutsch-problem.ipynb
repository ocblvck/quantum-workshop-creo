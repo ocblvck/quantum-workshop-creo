{
 "cells": [
  {
   "cell_type": "markdown",
   "id": "c73fbce7",
   "metadata": {},
   "source": [
    "# Deutsch's Problem\n",
    "\n",
    "Deutsch's problem is very simple — it's the **Parity** problem for functions of the form **f : Σ → Σ**."
   ]
  },
  {
   "cell_type": "markdown",
   "id": "09a3d19d",
   "metadata": {},
   "source": [
    "## The Four Possible Functions\n",
    "\n",
    "There are four functions of the form **f : Σ → Σ**:\n",
    "\n",
    "| a | f₁(a) | a | f₂(a) | a | f₃(a) | a | f₄(a) |\n",
    "|---|-------|---|-------|---|-------|---|-------|\n",
    "| 0 | 0     | 0 | 0     | 0 | 1     | 0 | 1     |\n",
    "| 1 | 0     | 1 | 1     | 1 | 0     | 1 | 1     |\n",
    "\n",
    "The functions **f₁** and **f₄** are **constant**, while **f₂** and **f₃** are **balanced**."
   ]
  },
  {
   "cell_type": "markdown",
   "id": "619f575c",
   "metadata": {},
   "source": [
    "## Deutsch's Problem Definition\n",
    "\n",
    "**Input:** f : Σ → Σ\n",
    "\n",
    "**Output:** 0 if f is constant, 1 if f is balanced"
   ]
  },
  {
   "cell_type": "markdown",
   "id": "03931e51",
   "metadata": {},
   "source": [
    "## The Classical Approach\n",
    "\n",
    "Every **classical** query algorithm must make **2 queries** to f to solve this problem — learning just one of two bits provides **no information** about their parity.\n",
    "\n",
    "Our query algorithm from earlier is therefore **optimal** among classical query algorithms for this problem."
   ]
  },
  {
   "cell_type": "code",
   "execution_count": null,
   "id": "ced215f9",
   "metadata": {},
   "outputs": [
    {
     "name": "stdout",
     "output_type": "stream",
     "text": [
      "Classical Algorithm - Testing f₁:\n",
      "Query 1: f(0) = 0\n",
      "Query 2: f(1) = 0\n",
      "Result: CONSTANT ✓\n",
      "\n",
      "==================================================\n",
      "Number of queries needed: 2\n",
      "Why? Knowing only f(0) or f(1) tells us nothing about the other!\n",
      "==================================================\n"
     ]
    }
   ],
   "source": [
    "# Classical approach: Demonstrating why 2 queries are needed\n",
    "\n",
    "# Example: Testing function f₁ (constant, outputs 0)\n",
    "def f1(x):\n",
    "    return 0\n",
    "\n",
    "# Classical algorithm must query both inputs\n",
    "query1 = f1(0)\n",
    "query2 = f1(1)\n",
    "\n",
    "print(\"Classical Algorithm - Testing f₁:\")\n",
    "print(f\"Query 1: f(0) = {query1}\")\n",
    "print(f\"Query 2: f(1) = {query2}\")\n",
    "\n",
    "# Determine if constant or balanced\n",
    "if query1 == query2:\n",
    "    print(\"Result: CONSTANT ✓\")\n",
    "else:\n",
    "    print(\"Result: BALANCED\")\n",
    "\n",
    "print(\"\\n\" + \"=\"*50)\n",
    "print(\"Number of queries needed: 2\")\n",
    "print(\"Why? Knowing only f(0) or f(1) tells us nothing about the other!\")\n",
    "print(\"=\"*50)"
   ]
  },
  {
   "cell_type": "markdown",
   "id": "9cab3e8e",
   "metadata": {},
   "source": [
    "## Testing All Four Functions (Classical Way)\n",
    "\n",
    "Let's see what happens when we test all four functions using the classical approach:"
   ]
  },
  {
   "cell_type": "code",
   "execution_count": 10,
   "id": "c71b466c",
   "metadata": {},
   "outputs": [
    {
     "name": "stdout",
     "output_type": "stream",
     "text": [
      "Classical Algorithm Testing All Functions:\n",
      "============================================================\n",
      "\n",
      "f₁ (constant)        | f(0)=0, f(1)=0 | CONSTANT\n",
      "\n",
      "f₂ (constant)        | f(0)=1, f(1)=1 | CONSTANT\n",
      "\n",
      "f₃ (balanced)        | f(0)=1, f(1)=0 | BALANCED\n",
      "\n",
      "f₄ (balanced)        | f(0)=0, f(1)=1 | BALANCED\n",
      "\n",
      "============================================================\n",
      "Total queries made: 2 per function\n",
      "Can we do better? 🤔\n",
      "============================================================\n"
     ]
    }
   ],
   "source": [
    "# Define all four functions\n",
    "def f1(x):  # Constant: always returns 0\n",
    "    return 0\n",
    "\n",
    "def f2(x):  # Constant: always returns 0\n",
    "    return 1\n",
    "\n",
    "def f3(x):  # Balanced: f(0)=1, f(1)=0\n",
    "    return 1 if x == 0 else 0\n",
    "\n",
    "def f4(x):  # Balanced: f(0)=1, f(1)=1\n",
    "    return 0 if x == 0 else 1\n",
    "\n",
    "# Test each function with classical algorithm\n",
    "functions = {\n",
    "    'f₁ (constant)': f1,\n",
    "    'f₂ (constant)': f2,\n",
    "    'f₃ (balanced)': f3,\n",
    "    'f₄ (balanced)': f4\n",
    "}\n",
    "\n",
    "print(\"Classical Algorithm Testing All Functions:\")\n",
    "print(\"=\"*60)\n",
    "\n",
    "for name, func in functions.items():\n",
    "    # Make 2 queries\n",
    "    result_0 = func(0)\n",
    "    result_1 = func(1)\n",
    "    \n",
    "    # Determine type\n",
    "    if result_0 == result_1:\n",
    "        func_type = \"CONSTANT\"\n",
    "    else:\n",
    "        func_type = \"BALANCED\"\n",
    "    \n",
    "    print(f\"\\n{name:20} | f(0)={result_0}, f(1)={result_1} | {func_type}\")\n",
    "\n",
    "print(\"\\n\" + \"=\"*60)\n",
    "print(\"Total queries made: 2 per function\")\n",
    "print(\"Can we do better? 🤔\")\n",
    "print(\"=\"*60)"
   ]
  },
  {
   "cell_type": "markdown",
   "id": "2e970f3c",
   "metadata": {},
   "source": [
    "## Visual Representation of Classical Query Algorithm\n",
    "\n",
    "The diagram below shows how a classical algorithm queries both inputs (0 and 1) separately:\n",
    "\n",
    "```\n",
    "Input 0 → [f] → Output f(0)\n",
    "                    ↓\n",
    "                  Compare\n",
    "                    ↓\n",
    "Input 1 → [f] → Output f(1)\n",
    "                    ↓\n",
    "              Determine: Constant or Balanced?\n",
    "```\n",
    "\n",
    "**Key Point:** In the classical approach, we **must** query both f(0) and f(1) to determine if the function is constant or balanced. There's no way around it!"
   ]
  },
  {
   "cell_type": "markdown",
   "id": "e323f790",
   "metadata": {},
   "source": [
    "## Summary: The Problem\n",
    "\n",
    "**Deutsch's Problem:**\n",
    "- **Input:** A function f : Σ → Σ (takes 0 or 1, returns 0 or 1)\n",
    "- **Output:** Determine if f is **constant** or **balanced**\n",
    "  - **Constant:** f(0) = f(1) (both outputs are the same)\n",
    "  - **Balanced:** f(0) ≠ f(1) (outputs are different)\n",
    "\n",
    "**Classical Limitation:**\n",
    "- Must make **2 queries** minimum\n",
    "- Learning f(0) alone tells us **nothing** about f(1)\n",
    "- Learning f(1) alone tells us **nothing** about f(0)\n",
    "- We MUST check both to know if they're equal or different\n",
    "\n",
    "**The Challenge:**\n",
    "Can we do better than 2 queries? \n",
    "\n",
    "*Spoiler: Quantum computing can solve this with just **1 query**! But that's a topic for the next notebook...* "
   ]
  }
 ],
 "metadata": {
  "kernelspec": {
   "display_name": "qiskit",
   "language": "python",
   "name": "python3"
  },
  "language_info": {
   "codemirror_mode": {
    "name": "ipython",
    "version": 3
   },
   "file_extension": ".py",
   "mimetype": "text/x-python",
   "name": "python",
   "nbconvert_exporter": "python",
   "pygments_lexer": "ipython3",
   "version": "3.13.3"
  }
 },
 "nbformat": 4,
 "nbformat_minor": 5
}
