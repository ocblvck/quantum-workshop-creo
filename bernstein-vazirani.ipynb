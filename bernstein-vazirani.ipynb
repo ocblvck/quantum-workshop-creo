{
 "cells": [
  {
   "cell_type": "markdown",
   "metadata": {},
   "source": [
    "# Bernstein-Vazirani Algorithm"
   ]
  },
  {
   "cell_type": "code",
   "execution_count": 2,
   "metadata": {},
   "outputs": [],
   "source": [
    "# Import Qiskit libraries\n",
    "from qiskit import *\n",
    "\n",
    "# Importing numpy\n",
    "import numpy as np\n"
   ]
  },
  {
   "cell_type": "code",
   "execution_count": 3,
   "metadata": {},
   "outputs": [
    {
     "name": "stdout",
     "output_type": "stream",
     "text": [
      "011\n"
     ]
    },
    {
     "data": {
      "text/html": [
       "<pre style=\"word-wrap: normal;white-space: pre;background: #fff0;line-height: 1.1;font-family: &quot;Courier New&quot;,Courier,monospace\">     ┌───┐      ░            ░ ┌───┐┌─┐      \n",
       "q_0: ┤ H ├──────░────────────░─┤ H ├┤M├──────\n",
       "     ├───┤      ░            ░ ├───┤└╥┘┌─┐   \n",
       "q_1: ┤ H ├──────░───■────────░─┤ H ├─╫─┤M├───\n",
       "     ├───┤      ░   │        ░ ├───┤ ║ └╥┘┌─┐\n",
       "q_2: ┤ H ├──────░───┼────■───░─┤ H ├─╫──╫─┤M├\n",
       "     ├───┤┌───┐ ░ ┌─┴─┐┌─┴─┐ ░ └───┘ ║  ║ └╥┘\n",
       "q_3: ┤ H ├┤ Z ├─░─┤ X ├┤ X ├─░───────╫──╫──╫─\n",
       "     └───┘└───┘ ░ └───┘└───┘ ░       ║  ║  ║ \n",
       "c: 3/════════════════════════════════╩══╩══╩═\n",
       "                                     0  1  2 </pre>"
      ],
      "text/plain": [
       "     ┌───┐      ░            ░ ┌───┐┌─┐      \n",
       "q_0: ┤ H ├──────░────────────░─┤ H ├┤M├──────\n",
       "     ├───┤      ░            ░ ├───┤└╥┘┌─┐   \n",
       "q_1: ┤ H ├──────░───■────────░─┤ H ├─╫─┤M├───\n",
       "     ├───┤      ░   │        ░ ├───┤ ║ └╥┘┌─┐\n",
       "q_2: ┤ H ├──────░───┼────■───░─┤ H ├─╫──╫─┤M├\n",
       "     ├───┤┌───┐ ░ ┌─┴─┐┌─┴─┐ ░ └───┘ ║  ║ └╥┘\n",
       "q_3: ┤ H ├┤ Z ├─░─┤ X ├┤ X ├─░───────╫──╫──╫─\n",
       "     └───┘└───┘ ░ └───┘└───┘ ░       ║  ║  ║ \n",
       "c: 3/════════════════════════════════╩══╩══╩═\n",
       "                                     0  1  2 "
      ]
     },
     "execution_count": 3,
     "metadata": {},
     "output_type": "execute_result"
    }
   ],
   "source": [
    "# Assign secret number\n",
    "s = \"110\";\n",
    "\n",
    "# Create circuit\n",
    "n = len(s);\n",
    "circuit_bv = QuantumCircuit(n+1, n)\n",
    "\n",
    "# Apply hadamard gate to all qubits\n",
    "circuit_bv.h(range(n+1))\n",
    "\n",
    "# Apply z gate to the last qubit\n",
    "circuit_bv.z(n)\n",
    "\n",
    "# Apply a barrier\n",
    "circuit_bv.barrier()\n",
    "\n",
    "# Reverse the order of S\n",
    "s = s[ : : -1]\n",
    "print(s)\n",
    "# Construct the Oracle by applyin CNOT gate\n",
    "for i in range(n):\n",
    "    if s[i] == \"1\":\n",
    "        circuit_bv.cx(i,n);\n",
    "circuit_bv.barrier()\n",
    "circuit_bv.h(range(n))\n",
    "circuit_bv.measure(range(n),range(n))\n",
    "circuit_bv.draw()\n",
    "\n"
   ]
  },
  {
   "cell_type": "markdown",
   "metadata": {},
   "source": [
    "# Run Using Local Simulator"
   ]
  },
  {
   "cell_type": "code",
   "execution_count": 4,
   "metadata": {},
   "outputs": [
    {
     "data": {
      "image/png": "[encoded data removed]",
      "text/plain": [
       "<Figure size 640x480 with 1 Axes>"
      ]
     },
     "execution_count": 4,
     "metadata": {},
     "output_type": "execute_result"
    }
   ],
   "source": [
    "# Import AerSimulator from qiskit_aer\n",
    "from qiskit_aer import AerSimulator\n",
    "\n",
    "# Run the circuit on the simulator and obtain the result\n",
    "result = AerSimulator().run(circuit_bv, shots=1, memory=True).result()\n",
    "\n",
    "# Get the counts from the results\n",
    "answer = result.get_counts()\n",
    "\n",
    "# Import plot_histogram from qiskit.visualization\n",
    "from qiskit.visualization import plot_histogram\n",
    "plot_histogram(answer)"
   ]
  },
  {
   "cell_type": "markdown",
   "metadata": {},
   "source": [
    "# Run on Real Quantum Device"
   ]
  },
  {
   "cell_type": "code",
   "execution_count": 5,
   "metadata": {},
   "outputs": [
    {
     "name": "stdout",
     "output_type": "stream",
     "text": [
      "Least busy backend: <IBMBackend('ibm_sherbrooke')>\n",
      " >>> Job ID: cwwxq3w60bqg008pt0dg\n",
      " >>> Job Status: QUEUED\n"
     ]
    }
   ],
   "source": [
    "from qiskit_ibm_runtime import QiskitRuntimeService\n",
    "from qiskit.transpiler.preset_passmanagers import generate_preset_pass_manager\n",
    "from qiskit_ibm_runtime import SamplerV2 as Sampler\n",
    "\n",
    "\n",
    "# To access saved credentials for the IBM quantum channel\n",
    "service = QiskitRuntimeService(channel=\"ibm_quantum\")\n",
    "\n",
    "# Call the Quantum computer you want to use\n",
    "backend = service.least_busy(operational=True, simulator=False, min_num_qubits=127)\n",
    "print(\"Least busy backend:\", backend)\n",
    "\n",
    "# Optimize and transform quantum circuits\n",
    "pm = generate_preset_pass_manager(backend=backend, optimization_level=1)\n",
    "circuit_bv_transpiled = pm.run(circuit_bv)\n",
    "\n",
    "# Execute quantum circuits\n",
    "sampler = Sampler(mode=backend)\n",
    "job = sampler.run([circuit_bv_transpiled], shots=1024)\n",
    "print(f\" >>> Job ID: {job.job_id()}\")\n",
    "print(f\" >>> Job Status: {job.status()}\")\n",
    "result = job.result()\n",
    "print(f\">>> Counts: {result[0].data.meas.get_counts()}\")"
   ]
  }
 ],
 "metadata": {
  "kernelspec": {
   "display_name": "Python 3.12.4 ('qiskit')",
   "language": "python",
   "name": "python3"
  },
  "language_info": {
   "codemirror_mode": {
    "name": "ipython",
    "version": 3
   },
   "file_extension": ".py",
   "mimetype": "text/x-python",
   "name": "python",
   "nbconvert_exporter": "python",
   "pygments_lexer": "ipython3",
   "version": "3.12.4"
  },
  "orig_nbformat": 4,
  "vscode": {
   "interpreter": {
    "hash": "ba0b25e8af5c74af8e2c6ced0e74862d1fdf41eb019455e1e720bbed2b1ca1d9"
   }
  }
 },
 "nbformat": 4,
 "nbformat_minor": 2
}
